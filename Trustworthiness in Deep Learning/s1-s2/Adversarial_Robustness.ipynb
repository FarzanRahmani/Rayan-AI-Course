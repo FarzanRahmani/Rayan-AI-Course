{
  "cells": [
    {
      "cell_type": "code",
      "execution_count": null,
      "metadata": {
        "id": "751oEXj2rG2I"
      },
      "outputs": [],
      "source": [
        "import torch\n",
        "import torch.nn as nn\n",
        "import torch.nn.functional as F\n",
        "import torch.optim as optim\n",
        "from torchvision import datasets, transforms\n",
        "import numpy as np\n",
        "import matplotlib.pyplot as plt"
      ]
    },
    {
      "cell_type": "code",
      "execution_count": null,
      "metadata": {
        "colab": {
          "base_uri": "https://localhost:8080/"
        },
        "id": "RQRUDAr8rUJ4",
        "outputId": "3ed40789-daac-4750-8cd2-c2680e5a6037"
      },
      "outputs": [
        {
          "data": {
            "text/plain": [
              "<torch._C.Generator at 0x783921f501b0>"
            ]
          },
          "execution_count": 21,
          "metadata": {},
          "output_type": "execute_result"
        }
      ],
      "source": [
        "epsilons = [0, .05, .1, .15, .2, .25, .3] #for MNIST\n",
        "\n",
        "pretrained_model = \"/content/drive/MyDrive/lenet_mnist_model.pth\"\n",
        "use_cuda=True\n",
        "# Set random seed for reproducibility\n",
        "torch.manual_seed(42)"
      ]
    },
    {
      "cell_type": "code",
      "execution_count": null,
      "metadata": {
        "colab": {
          "base_uri": "https://localhost:8080/"
        },
        "id": "uSmLqYo_v7H_",
        "outputId": "05703601-6771-46cd-b58f-1a6cbe36eed1"
      },
      "outputs": [
        {
          "name": "stdout",
          "output_type": "stream",
          "text": [
            "Drive already mounted at /content/drive; to attempt to forcibly remount, call drive.mount(\"/content/drive\", force_remount=True).\n"
          ]
        }
      ],
      "source": [
        "from google.colab import drive\n",
        "drive.mount('/content/drive')"
      ]
    },
    {
      "cell_type": "code",
      "execution_count": null,
      "metadata": {
        "colab": {
          "base_uri": "https://localhost:8080/"
        },
        "id": "ZnnspQn0rXiS",
        "outputId": "0219e236-434a-4bf4-ed51-5ba409dfe9db"
      },
      "outputs": [
        {
          "name": "stdout",
          "output_type": "stream",
          "text": [
            "CUDA Available:  True\n"
          ]
        },
        {
          "data": {
            "text/plain": [
              "Net(\n",
              "  (conv1): Conv2d(1, 32, kernel_size=(3, 3), stride=(1, 1))\n",
              "  (conv2): Conv2d(32, 64, kernel_size=(3, 3), stride=(1, 1))\n",
              "  (dropout1): Dropout(p=0.25, inplace=False)\n",
              "  (dropout2): Dropout(p=0.5, inplace=False)\n",
              "  (fc1): Linear(in_features=9216, out_features=128, bias=True)\n",
              "  (fc2): Linear(in_features=128, out_features=10, bias=True)\n",
              ")"
            ]
          },
          "execution_count": 23,
          "metadata": {},
          "output_type": "execute_result"
        }
      ],
      "source": [
        "# LeNet Model definition\n",
        "class Net(nn.Module):\n",
        "    def __init__(self):\n",
        "        super(Net, self).__init__()\n",
        "        self.conv1 = nn.Conv2d(1, 32, 3, 1)\n",
        "        self.conv2 = nn.Conv2d(32, 64, 3, 1)\n",
        "        self.dropout1 = nn.Dropout(0.25)\n",
        "        self.dropout2 = nn.Dropout(0.5)\n",
        "        self.fc1 = nn.Linear(9216, 128)\n",
        "        self.fc2 = nn.Linear(128, 10)\n",
        "\n",
        "    def forward(self, x):\n",
        "        x = self.conv1(x)\n",
        "        x = F.relu(x)\n",
        "        x = self.conv2(x)\n",
        "        x = F.relu(x)\n",
        "        x = F.max_pool2d(x, 2)\n",
        "        x = self.dropout1(x)\n",
        "        x = torch.flatten(x, 1)\n",
        "        x = self.fc1(x)\n",
        "        x = F.relu(x)\n",
        "        x = self.dropout2(x)\n",
        "        x = self.fc2(x)\n",
        "        output = F.log_softmax(x, dim=1)\n",
        "        return output\n",
        "\n",
        "#transforms.Normalize((0.1307,), (0.3081,)),\n",
        "# MNIST Test dataset and dataloader declaration\n",
        "test_loader = torch.utils.data.DataLoader(\n",
        "    datasets.MNIST('../data', train=False, download=True, transform=transforms.Compose([\n",
        "            transforms.ToTensor()\n",
        "            ])),\n",
        "        batch_size=128, shuffle=True)\n",
        "\n",
        "train_loader = torch.utils.data.DataLoader(\n",
        "    datasets.MNIST('../data', train=True, download=True, transform=transforms.Compose([\n",
        "            transforms.ToTensor()\n",
        "            ])),\n",
        "        batch_size=128, shuffle=True)\n",
        "\n",
        "# Define what device we are using\n",
        "print(\"CUDA Available: \",torch.cuda.is_available())\n",
        "device = torch.device(\"cuda\" if use_cuda and torch.cuda.is_available() else \"cpu\")\n",
        "\n",
        "# Initialize the network\n",
        "model = Net().to(device)\n",
        "\n",
        "# Load the pretrained model\n",
        "model.load_state_dict(torch.load(pretrained_model, map_location=device))\n",
        "\n",
        "# Set the model in evaluation mode. In this case this is for the Dropout layers\n",
        "model.eval()"
      ]
    },
    {
      "cell_type": "code",
      "execution_count": null,
      "metadata": {
        "id": "W3a4TywTrdA9"
      },
      "outputs": [],
      "source": [
        "# FGSM attack code\n",
        "def fgsm_attack(image, epsilon, data_grad):\n",
        "    # Collect the element-wise sign of the data gradient\n",
        "    sign_data_grad = data_grad.sign()\n",
        "    # Create the perturbed image by adjusting each pixel of the input image\n",
        "    perturbed_image = image + epsilon*sign_data_grad\n",
        "    # Adding clipping to maintain [0,1] range\n",
        "    perturbed_image = torch.clamp(perturbed_image, 0, 1)\n",
        "    # Return the perturbed image\n",
        "    return perturbed_image\n",
        "\n",
        "def normalize(X, mu = 0.1307, std = 0.3081):\n",
        "  return X #(X - mu)/std\n",
        "\n",
        "def pgd_attack(model, X, y, epsilon, alpha, attack_iters, norm, device):\n",
        "\n",
        "  upper_limit, lower_limit = 1,0\n",
        "  delta = torch.zeros_like(X).to(device)\n",
        "  if norm == \"l_inf\":\n",
        "    delta.uniform_(-epsilon, epsilon)\n",
        "  elif norm == \"l_2\":\n",
        "    delta.normal_()\n",
        "    d_flat = delta.view(delta.size(0),-1)\n",
        "    n = d_flat.norm(p=2,dim=1).view(delta.size(0),1,1,1)\n",
        "    r = torch.zeros_like(n).uniform_(0, 1)\n",
        "    delta *= 1/n * r * epsilon\n",
        "  else:\n",
        "    raise ValueError\n",
        "  delta = torch.clamp(delta, lower_limit-X, upper_limit-X)\n",
        "  delta.requires_grad = True\n",
        "\n",
        "  for _ in range(attack_iters):\n",
        "      output = model(normalize(X + delta))\n",
        "\n",
        "      loss = F.cross_entropy(output, y)\n",
        "      loss.backward()\n",
        "\n",
        "      grad = delta.grad.detach()\n",
        "\n",
        "      d = delta\n",
        "      g = grad\n",
        "      x = X\n",
        "\n",
        "      if norm == \"l_inf\":\n",
        "          d = torch.clamp(d + alpha * torch.sign(g), min=-epsilon, max=epsilon)\n",
        "      elif norm == \"l_2\":\n",
        "          g_norm = torch.norm(g.view(g.shape[0],-1),dim=1).view(-1,1,1,1)\n",
        "          scaled_g = g/(g_norm + 1e-10)\n",
        "          d = (d + scaled_g*alpha).view(d.size(0),-1).renorm(p=2,dim=0,maxnorm=epsilon).view_as(d)\n",
        "\n",
        "      d = torch.clamp(d, lower_limit - x, upper_limit - x)\n",
        "\n",
        "      delta.data = d\n",
        "      delta.grad.zero_()\n",
        "  return X+delta\n",
        "\n",
        "# restores the tensors to their original scale\n",
        "def denorm(batch, mean=[0.1307], std=[0.3081]):\n",
        "    \"\"\"\n",
        "    Convert a batch of tensors to their original scale.\n",
        "\n",
        "    Args:\n",
        "        batch (torch.Tensor): Batch of normalized tensors.\n",
        "        mean (torch.Tensor or list): Mean used for normalization.\n",
        "        std (torch.Tensor or list): Standard deviation used for normalization.\n",
        "\n",
        "    Returns:\n",
        "        torch.Tensor: batch of tensors without normalization applied to them.\n",
        "    \"\"\"\n",
        "    if isinstance(mean, list):\n",
        "        mean = torch.tensor(mean).to(device)\n",
        "    if isinstance(std, list):\n",
        "        std = torch.tensor(std).to(device)\n",
        "\n",
        "    return batch * std.view(1, -1, 1, 1) + mean.view(1, -1, 1, 1)\n"
      ]
    },
    {
      "cell_type": "code",
      "execution_count": null,
      "metadata": {
        "id": "qUdj3uGcrjG7"
      },
      "outputs": [],
      "source": [
        "def test(model, device, test_loader, epsilon ):\n",
        "\n",
        "    # Accuracy counter\n",
        "    correct = 0\n",
        "    adv_examples = []\n",
        "\n",
        "    # Loop over all examples in test set\n",
        "    for data, target in test_loader:\n",
        "\n",
        "        # Send the data and label to the device\n",
        "        data, target = data.to(device), target.to(device)\n",
        "\n",
        "        # Set requires_grad attribute of tensor. Important for Attack\n",
        "        data.requires_grad = True\n",
        "\n",
        "        # Forward pass the data through the model\n",
        "        output = model(normalize(data))\n",
        "        init_pred = output.max(1, keepdim=True)[1] # get the index of the max log-probability\n",
        "\n",
        "        # Calculate the loss\n",
        "        loss = F.nll_loss(output, target)\n",
        "\n",
        "        # Zero all existing gradients\n",
        "        model.zero_grad()\n",
        "\n",
        "        # Calculate gradients of model in backward pass\n",
        "        loss.backward()\n",
        "\n",
        "        # Collect ``datagrad``\n",
        "        data_grad = data.grad.data\n",
        "\n",
        "        # Call FGSM Attack\n",
        "        perturbed_data = fgsm_attack(data, epsilon, data_grad)\n",
        "\n",
        "        # Re-classify the perturbed image\n",
        "        output = model(normalize(perturbed_data))\n",
        "\n",
        "        # Check for success\n",
        "        final_pred = output.max(1, keepdim=True)[1] # get the index of the max log-probability\n",
        "\n",
        "        correct += (final_pred.flatten() == target.flatten()).sum().item()\n",
        "\n",
        "    # Calculate final accuracy for this epsilon\n",
        "    final_acc = correct/float(len(test_loader) * 128)\n",
        "    print(f\"Epsilon: {epsilon}\\tTest Accuracy = {correct} / {len(test_loader)} = {final_acc}\")\n",
        "\n",
        "    # Return the accuracy and an adversarial example\n",
        "    return final_acc, adv_examples\n",
        "\n",
        "def test_pgd(model, device, test_loader, epsilon):\n",
        "\n",
        "    # Accuracy counter\n",
        "    correct = 0\n",
        "    adv_examples = []\n",
        "\n",
        "    # Loop over all examples in test set\n",
        "    for data, target in test_loader:\n",
        "\n",
        "        # Send the data and label to the device\n",
        "        data, target = data.to(device), target.to(device)\n",
        "\n",
        "        # Forward pass the data through the model\n",
        "        output = model(normalize(data))\n",
        "        init_pred = output.max(1, keepdim=True)[1] # get the index of the max log-probability\n",
        "\n",
        "        # Call PGD Attack\n",
        "        perturbed_data = pgd_attack(model, data, target, epsilon, epsilon/10*2.5, 10, 'l_inf', device)\n",
        "\n",
        "        # Re-classify the perturbed image\n",
        "        output = model(normalize(perturbed_data))\n",
        "\n",
        "        # Check for success\n",
        "        final_pred = output.max(1, keepdim=True)[1] # get the index of the max log-probability\n",
        "\n",
        "        correct += (final_pred.flatten() == target.flatten()).sum().item()\n",
        "\n",
        "    # Calculate final accuracy for this epsilon\n",
        "    final_acc = correct/float(len(test_loader)*128)\n",
        "    print(f\"Epsilon: {epsilon}\\tTest Accuracy = {correct} / {len(test_loader)} = {final_acc}\")\n",
        "\n",
        "    # Return the accuracy and an adversarial example\n",
        "    return final_acc, adv_examples"
      ]
    },
    {
      "cell_type": "code",
      "execution_count": null,
      "metadata": {
        "colab": {
          "background_save": true,
          "base_uri": "https://localhost:8080/"
        },
        "id": "bKDu9cLrrnuz",
        "outputId": "034893e0-9d1a-47c6-98d3-fdf51ea38780"
      },
      "outputs": [
        {
          "name": "stdout",
          "output_type": "stream",
          "text": [
            "Epsilon: 0\tTest Accuracy = 9877 / 79 = 0.9767602848101266\n",
            "Epsilon: 0.05\tTest Accuracy = 9427 / 79 = 0.9322587025316456\n",
            "Epsilon: 0.1\tTest Accuracy = 7651 / 79 = 0.7566257911392406\n",
            "Epsilon: 0.15\tTest Accuracy = 2318 / 79 = 0.22923259493670886\n",
            "Epsilon: 0.2\tTest Accuracy = 1268 / 79 = 0.12539556962025317\n",
            "Epsilon: 0.25\tTest Accuracy = 522 / 79 = 0.05162183544303797\n",
            "Epsilon: 0.3\tTest Accuracy = 87 / 79 = 0.00860363924050633\n"
          ]
        }
      ],
      "source": [
        "accuracies = []\n",
        "examples = []\n",
        "\n",
        "# Run test for each epsilon\n",
        "for eps in epsilons:\n",
        "    acc, ex = test_pgd(model, device, test_loader, eps)\n",
        "    accuracies.append(acc)\n",
        "    examples.append(ex)"
      ]
    },
    {
      "cell_type": "code",
      "execution_count": null,
      "metadata": {
        "colab": {
          "background_save": true
        },
        "id": "OkVgvytlrql5",
        "outputId": "47b74602-c054-41f5-a5c1-6bdf43ffe57c"
      },
      "outputs": [
        {
          "data": {
            "image/png": "[encoded data removed]",
            "text/plain": [
              "<Figure size 500x500 with 1 Axes>"
            ]
          },
          "metadata": {},
          "output_type": "display_data"
        }
      ],
      "source": [
        "plt.figure(figsize=(5,5))\n",
        "plt.plot(epsilons, accuracies, \"*-\")\n",
        "plt.yticks(np.arange(0, 1.1, step=0.1))\n",
        "plt.xticks(np.arange(0, .35, step=0.05))\n",
        "plt.title(\"Accuracy vs Epsilon\")\n",
        "plt.xlabel(\"Epsilon\")\n",
        "plt.ylabel(\"Accuracy\")\n",
        "plt.show()"
      ]
    },
    {
      "cell_type": "code",
      "execution_count": null,
      "metadata": {
        "colab": {
          "background_save": true
        },
        "id": "JbAU6y2sr1U9",
        "outputId": "52cac960-829a-4375-b735-2c801969d379"
      },
      "outputs": [
        {
          "name": "stdout",
          "output_type": "stream",
          "text": [
            "test robust loss : 2.14173281288147 test robust acc : 0.2778\n"
          ]
        }
      ],
      "source": [
        "def lr_schedule(t):\n",
        "    return 0.1 * 0.05 * (1 + np.cos(t / 20 * np.pi))\n",
        "\n",
        "epsilon = 0.3\n",
        "\n",
        "for epoch in range(20):\n",
        "  model.train()\n",
        "\n",
        "  opt = torch.optim.SGD(params = model.parameters(), lr=0.01)\n",
        "  criterion = nn.CrossEntropyLoss()\n",
        "\n",
        "  for X, y in train_loader:\n",
        "\n",
        "    X = X.to(device)\n",
        "    y = y.to(device)\n",
        "\n",
        "    X_pert = pgd_attack(model, X, y, epsilon, epsilon/10*2.5, 10, 'l_inf', device)\n",
        "    X_pert = X_pert.detach()\n",
        "    robust_output = model(X_pert)\n",
        "\n",
        "    robust_loss = criterion(robust_output, y)\n",
        "\n",
        "    opt.zero_grad()\n",
        "    robust_loss.backward()\n",
        "    opt.step()\n",
        "\n",
        "  model.eval()\n",
        "  test_loss = 0\n",
        "  test_acc = 0\n",
        "  test_robust_loss = 0\n",
        "  test_robust_acc = 0\n",
        "  test_n = 0\n",
        "  train_robust_loss = 0\n",
        "  train_robust_acc = 0\n",
        "  train_n = 0\n",
        "\n",
        "  for X, y in train_loader:\n",
        "\n",
        "    X = X.to(device)\n",
        "    y = y.to(device)\n",
        "\n",
        "    X_pert = pgd_attack(model, X, y, epsilon, epsilon/10*2.5, 10, 'l_inf', device)\n",
        "    X_pert = X_pert.detach()\n",
        "    robust_output = model(X_pert)\n",
        "    robust_loss = criterion(robust_output, y)\n",
        "\n",
        "    train_robust_loss += robust_loss.item() * y.size(0)\n",
        "    train_robust_acc += (robust_output.max(1)[1] == y).sum().item()\n",
        "\n",
        "    train_n += y.size(0)\n",
        "\n",
        "\n",
        "\n",
        "  for X, y in test_loader:\n",
        "      X = X.to(device)\n",
        "      y = y.to(device)\n",
        "\n",
        "      # Random initialization\n",
        "      X_pert = pgd_attack(model, X, y, epsilon, epsilon/50*2.5, 50, 'l_inf', device)\n",
        "      X_pert = X_pert.detach()\n",
        "\n",
        "      robust_output = model(X_pert)\n",
        "      robust_loss = criterion(robust_output, y)\n",
        "\n",
        "      output = model(X)\n",
        "      loss = criterion(output, y)\n",
        "\n",
        "      test_robust_loss += robust_loss.item() * y.size(0)\n",
        "      test_robust_acc += (robust_output.max(1)[1] == y).sum().item()\n",
        "      test_loss += loss.item() * y.size(0)\n",
        "      test_acc += (output.max(1)[1] == y).sum().item()\n",
        "      test_n += y.size(0)\n",
        "\n",
        "  print('test robust loss :', test_robust_loss/test_n, 'test robust acc :', test_robust_acc/test_n)"
      ]
    },
    {
      "cell_type": "code",
      "execution_count": null,
      "metadata": {
        "id": "RZ9jj0hMNdkY"
      },
      "outputs": [],
      "source": []
    }
  ],
  "metadata": {
    "accelerator": "GPU",
    "colab": {
      "gpuType": "T4",
      "provenance": []
    },
    "kernelspec": {
      "display_name": "Python 3",
      "name": "python3"
    },
    "language_info": {
      "name": "python"
    }
  },
  "nbformat": 4,
  "nbformat_minor": 0
}